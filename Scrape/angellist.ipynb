{
 "cells": [
  {
   "cell_type": "code",
   "execution_count": 2,
   "metadata": {},
   "outputs": [],
   "source": [
    "import requests"
   ]
  },
  {
   "cell_type": "code",
   "execution_count": 7,
   "metadata": {},
   "outputs": [],
   "source": [
    "headers = {'User-Agent': 'Mozilla/5.0 (Macintosh; Intel Mac OS X 10_11_5) AppleWebKit/537.36 (KHTML, like Gecko) Chrome/50.0.2661.102 Safari/537.36'}\n"
   ]
  },
  {
   "cell_type": "code",
   "execution_count": 8,
   "metadata": {},
   "outputs": [],
   "source": [
    "r = requests.get('https://angel.co/role/l/data-scientist/india', headers=headers)"
   ]
  },
  {
   "cell_type": "code",
   "execution_count": 11,
   "metadata": {},
   "outputs": [
    {
     "data": {
      "text/plain": [
       "'<html><head><title>angel.co</title><script src=\"/cdn-cgi/apps/head/v3Y6PDaKW3Klrhkz3hnr6rJFe4k.js\"></script><style>#cmsg{animation: A 1.5s;}@keyframes A{0%{opacity:0;}99%{opacity:0;}100%{opacity:1;}}</style></head><body style=\"margin:0\"><p id=\"cmsg\">Please enable JS and disable any ad blocker</p><script type=\"483586061db328e7a422fe42-text/javascript\">var dd={\\'cid\\':\\'AHrlqAAAAAMAilvj6kHf0ngAnSmK8g==\\',\\'hsh\\':\\'BA3EB296E8BE96A496929870E20CD4\\',\\'t\\':\\'fe\\',\\'s\\':23647,\\'e\\':\\'9ad6dbb293d55d80c39a5b330012e5778d5af14f2bd173e4ca315385b242fe52\\',\\'host\\':\\'geo.captcha-delivery.com\\'}</script><script src=\"https://ct.captcha-delivery.com/c.js\" type=\"483586061db328e7a422fe42-text/javascript\"></script><script src=\"/cdn-cgi/scripts/7d0fa10a/cloudflare-static/rocket-loader.min.js\" data-cf-settings=\"483586061db328e7a422fe42-|49\" defer=\"\"></script></body></html>\\n'"
      ]
     },
     "execution_count": 11,
     "metadata": {},
     "output_type": "execute_result"
    }
   ],
   "source": [
    "r.content.decode()"
   ]
  }
 ],
 "metadata": {
  "interpreter": {
   "hash": "2e6c871947a0b54fb6bdae1e363391934f18e216da7168dab1422b241e2f697f"
  },
  "kernelspec": {
   "display_name": "Python 3.9.12 ('python3.9')",
   "language": "python",
   "name": "python3"
  },
  "language_info": {
   "codemirror_mode": {
    "name": "ipython",
    "version": 3
   },
   "file_extension": ".py",
   "mimetype": "text/x-python",
   "name": "python",
   "nbconvert_exporter": "python",
   "pygments_lexer": "ipython3",
   "version": "3.9.12"
  },
  "orig_nbformat": 4
 },
 "nbformat": 4,
 "nbformat_minor": 2
}
