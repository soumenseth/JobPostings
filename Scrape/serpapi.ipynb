{
 "cells": [
  {
   "cell_type": "code",
   "execution_count": 23,
   "metadata": {},
   "outputs": [],
   "source": [
    "from serpapi import GoogleSearch\n",
    "from utils import get_api_key\n",
    "import hashlib"
   ]
  },
  {
   "cell_type": "code",
   "execution_count": 16,
   "metadata": {},
   "outputs": [],
   "source": [
    "api_key = get_api_key(\"serpapi\").decode(\"utf-8\")"
   ]
  },
  {
   "cell_type": "code",
   "execution_count": 24,
   "metadata": {},
   "outputs": [
    {
     "name": "stdout",
     "output_type": "stream",
     "text": [
      "https://serpapi.com/search\n",
      "{'error': 'Invalid job ID'}\n"
     ]
    }
   ],
   "source": [
    "search = GoogleSearch({\n",
    "    \"q\": \"coffee\", \n",
    "    \"engine\": \"google_jobs_listing\",\n",
    "    \"api_key\": api_key})\n",
    "result = search.get_dict()\n",
    "\n",
    "print(result)"
   ]
  },
  {
   "cell_type": "code",
   "execution_count": 21,
   "metadata": {},
   "outputs": [
    {
     "name": "stdout",
     "output_type": "stream",
     "text": [
      "https://serpapi.com/search\n"
     ]
    }
   ],
   "source": [
    "params = {\n",
    "  \"engine\": \"google_jobs_listing\",\n",
    "  \"q\": \"eyJqb2JfdGl0bGUiOiJCYXJpc3RhLCBTYWtzV29ya3MiLCJodGlkb2NpZCI6IjFkME1xWFM4V3lycWFMMHZBQUFBQUE9PSIsInV1bGUiOiJ3K0NBSVFJQ0lmVG1WM0lGbHZjbXNzVG1WM0lGbHZjbXNzVlc1cGRHVmtJRk4wWVhSbGN3IiwiZ2wiOiJ1cyIsImhsIjoiZW4iLCJmYyI6IkV2Y0JDcmNCUVUxc2RuSndka1ZtWWtJdGVIUlBjazlrWDNGd1IwdGpibnBuZDFsS1RFcEpNV2xITVhsVFVVcDFVbEJ4VXpZdFptZHhURmM1VTJaUmNEbEhUa2wwTFdWd1ozWktjalJCY2xWUk1td3dRV3hIUTE5T2IwdFBVMU4zTFVkMmFFcEdaV05GTUdSWU5FdFFXSGRQUkZOWFJuaDJlR050U1hoVmNHRnNjMkZ3YjNsSmFFazJSVkJCY0RFMk9XWkRUbG94Um5aalpXaEVaak5OWkZGUExYTXdTM0JSVm1WeGNsOVJhVEJGUjNGbmRYTmtVbFZIUlhwckVoYzRkRzV0V1ZwUFRFTTNVMFY1ZEUxUWFHSnBjVEpCVVJvaVFVaFhVMDV0VmtoRGVWWnVjVXhmWWxGb1ZqVlNTbHBRUlVKT1dsRk1YMGw2VVEiLCJmY3YiOiIzIiwiZmNfaWQiOiJmY184IiwiYXBwbHlfbGluayI6eyJ0aXRsZSI6IkxpbmtlZEluIiwibGluayI6Imh0dHBzOi8vd3d3LmxpbmtlZGluLmNvbS9qb2JzL3ZpZXcvYmFyaXN0YS1zYWtzd29ya3MtYXQtaHVkc29uLXMtYmF5LWNvbXBhbnktMjg1Mjg1MzM0OT91dG1fY2FtcGFpZ249Z29vZ2xlX2pvYnNfYXBwbHlcdTAwMjZ1dG1fc291cmNlPWdvb2dsZV9qb2JzX2FwcGx5XHUwMDI2dXRtX21lZGl1bT1vcmdhbmljIn19\",\n",
    "  \"api_key\": api_key\n",
    "}\n",
    "\n",
    "search = GoogleSearch(params)\n",
    "results = search.get_dict()"
   ]
  },
  {
   "cell_type": "code",
   "execution_count": 22,
   "metadata": {},
   "outputs": [
    {
     "data": {
      "text/plain": [
       "{'search_metadata': {'id': '629116b5ca968fb372847fc1',\n",
       "  'status': 'Success',\n",
       "  'json_endpoint': 'https://serpapi.com/searches/b165a4c043e3a7cb/629116b5ca968fb372847fc1.json',\n",
       "  'created_at': '2022-05-27 18:21:41 UTC',\n",
       "  'processed_at': '2022-05-27 18:21:41 UTC',\n",
       "  'google_jobs_listing_url': 'https://www.google.com/search?q=Barista%2C+SaksWorks&ibp=htl;jobs&uule=w+CAIQICIfTmV3IFlvcmssTmV3IFlvcmssVW5pdGVkIFN0YXRlcw#htidocid=1d0MqXS8WyrqaL0vAAAAAA==',\n",
       "  'raw_html_file': 'https://serpapi.com/searches/b165a4c043e3a7cb/629116b5ca968fb372847fc1.html',\n",
       "  'prettify_html_file': 'https://serpapi.com/searches/b165a4c043e3a7cb/629116b5ca968fb372847fc1.prettify',\n",
       "  'total_time_taken': 1.46},\n",
       " 'search_parameters': {'q': 'eyJqb2JfdGl0bGUiOiJCYXJpc3RhLCBTYWtzV29ya3MiLCJodGlkb2NpZCI6IjFkME1xWFM4V3lycWFMMHZBQUFBQUE9PSIsInV1bGUiOiJ3K0NBSVFJQ0lmVG1WM0lGbHZjbXNzVG1WM0lGbHZjbXNzVlc1cGRHVmtJRk4wWVhSbGN3IiwiZ2wiOiJ1cyIsImhsIjoiZW4iLCJmYyI6IkV2Y0JDcmNCUVUxc2RuSndka1ZtWWtJdGVIUlBjazlrWDNGd1IwdGpibnBuZDFsS1RFcEpNV2xITVhsVFVVcDFVbEJ4VXpZdFptZHhURmM1VTJaUmNEbEhUa2wwTFdWd1ozWktjalJCY2xWUk1td3dRV3hIUTE5T2IwdFBVMU4zTFVkMmFFcEdaV05GTUdSWU5FdFFXSGRQUkZOWFJuaDJlR050U1hoVmNHRnNjMkZ3YjNsSmFFazJSVkJCY0RFMk9XWkRUbG94Um5aalpXaEVaak5OWkZGUExYTXdTM0JSVm1WeGNsOVJhVEJGUjNGbmRYTmtVbFZIUlhwckVoYzRkRzV0V1ZwUFRFTTNVMFY1ZEUxUWFHSnBjVEpCVVJvaVFVaFhVMDV0VmtoRGVWWnVjVXhmWWxGb1ZqVlNTbHBRUlVKT1dsRk1YMGw2VVEiLCJmY3YiOiIzIiwiZmNfaWQiOiJmY184IiwiYXBwbHlfbGluayI6eyJ0aXRsZSI6IkxpbmtlZEluIiwibGluayI6Imh0dHBzOi8vd3d3LmxpbmtlZGluLmNvbS9qb2JzL3ZpZXcvYmFyaXN0YS1zYWtzd29ya3MtYXQtaHVkc29uLXMtYmF5LWNvbXBhbnktMjg1Mjg1MzM0OT91dG1fY2FtcGFpZ249Z29vZ2xlX2pvYnNfYXBwbHlcdTAwMjZ1dG1fc291cmNlPWdvb2dsZV9qb2JzX2FwcGx5XHUwMDI2dXRtX21lZGl1bT1vcmdhbmljIn19',\n",
       "  'engine': 'google_jobs_listing'},\n",
       " 'ratings': [{'link': 'https://www.glassdoor.com/Reviews/Hudson-s-Bay-Company-Reviews-E3791.htm?utm_campaign=google_jobs_reviews&utm_source=google_jobs_reviews&utm_medium=organic',\n",
       "   'source': 'Glassdoor',\n",
       "   'rating': 3.5,\n",
       "   'reviews': 2382},\n",
       "  {'link': 'https://www.comparably.com/companies/hudsons/reviews?utm_campaign=google_jobs_reviews&utm_source=google_jobs_reviews&utm_medium=organic',\n",
       "   'source': 'Comparably',\n",
       "   'rating': 2.4,\n",
       "   'reviews': 85},\n",
       "  {'link': 'https://www.ambitionbox.com/reviews/hudsons-bay-company-reviews?utm_campaign=google_jobs_reviews&utm_source=google_jobs_reviews&utm_medium=organic',\n",
       "   'source': 'AmbitionBox',\n",
       "   'rating': 4.4,\n",
       "   'reviews': 81}],\n",
       " 'apply_options': [{'title': 'LinkedIn',\n",
       "   'link': 'https://www.linkedin.com/jobs/view/barista-saksworks-at-hudson-s-bay-company-2852853349?utm_campaign=google_jobs_apply&utm_source=google_jobs_apply&utm_medium=organic'}]}"
      ]
     },
     "execution_count": 22,
     "metadata": {},
     "output_type": "execute_result"
    }
   ],
   "source": [
    "results"
   ]
  },
  {
   "cell_type": "code",
   "execution_count": 25,
   "metadata": {},
   "outputs": [
    {
     "name": "stdout",
     "output_type": "stream",
     "text": [
      "Help on class GoogleSearch in module serpapi.google_search:\n",
      "\n",
      "class GoogleSearch(serpapi.serp_api_client.SerpApiClient)\n",
      " |  GoogleSearch(params_dict)\n",
      " |  \n",
      " |  GoogleSearch enables to search google and parse the result.\n",
      " |  ```python\n",
      " |  from serpapi import GoogleSearch\n",
      " |  query = GoogleSearch({\"q\": \"coffee\", \"location\": \"Austin,Texas\"})\n",
      " |  data = query.get_json()\n",
      " |  ```\n",
      " |  \n",
      " |  https://github.com/serpapi/google-search-results-python\n",
      " |  \n",
      " |  Method resolution order:\n",
      " |      GoogleSearch\n",
      " |      serpapi.serp_api_client.SerpApiClient\n",
      " |      builtins.object\n",
      " |  \n",
      " |  Methods defined here:\n",
      " |  \n",
      " |  __init__(self, params_dict)\n",
      " |      Initialize self.  See help(type(self)) for accurate signature.\n",
      " |  \n",
      " |  ----------------------------------------------------------------------\n",
      " |  Methods inherited from serpapi.serp_api_client.SerpApiClient:\n",
      " |  \n",
      " |  construct_url(self, path='/search')\n",
      " |  \n",
      " |  get_account(self)\n",
      " |      Get account information using Account API\n",
      " |      Returns:\n",
      " |          dict: account information\n",
      " |  \n",
      " |  get_dict(self)\n",
      " |      Returns:\n",
      " |      Dict with the formatted response content\n",
      " |      (alias for get_dictionary)\n",
      " |  \n",
      " |  get_dictionary(self)\n",
      " |      Returns:\n",
      " |      Dict with the formatted response content\n",
      " |  \n",
      " |  get_html(self)\n",
      " |      Returns:\n",
      " |      Raw HTML search result from Gooogle\n",
      " |  \n",
      " |  get_json(self)\n",
      " |      Returns:\n",
      " |      Formatted JSON search results using json package\n",
      " |  \n",
      " |  get_location(self, q, limit=5)\n",
      " |      Get location using Location API\n",
      " |      Parameters:\n",
      " |          q (string): location (like: city name..)\n",
      " |          limit (int): number of matches returned\n",
      " |      Returns:\n",
      " |          dict: Location matching q\n",
      " |  \n",
      " |  get_object(self)\n",
      " |      Returns: \n",
      " |      Dynamically created python object wrapping the result data structure\n",
      " |  \n",
      " |  get_raw_json(self)\n",
      " |      Returns:\n",
      " |      Formatted JSON search result as string\n",
      " |  \n",
      " |  get_response(self, path='/search')\n",
      " |      Returns:\n",
      " |      Response object provided by requests.get\n",
      " |  \n",
      " |  get_results(self, path='/search')\n",
      " |      Returns:\n",
      " |      Response text field\n",
      " |  \n",
      " |  get_search_archive(self, search_id, format='json')\n",
      " |      Retrieve search result from the Search Archive API\n",
      " |      Parameters:\n",
      " |          search_id (int): unique identifier for the search provided by metadata.id \n",
      " |          format (string): search format: json or html [optional]\n",
      " |      Returns:\n",
      " |          dict|string: search result from the archive\n",
      " |  \n",
      " |  make_pyobj(self, name, node)\n",
      " |  \n",
      " |  pagination(self, start=0, end=1000000000, page_size=10)\n",
      " |      Return:\n",
      " |      Generator to iterate the search results pagination\n",
      " |  \n",
      " |  ----------------------------------------------------------------------\n",
      " |  Data descriptors inherited from serpapi.serp_api_client.SerpApiClient:\n",
      " |  \n",
      " |  __dict__\n",
      " |      dictionary for instance variables (if defined)\n",
      " |  \n",
      " |  __weakref__\n",
      " |      list of weak references to the object (if defined)\n",
      " |  \n",
      " |  ----------------------------------------------------------------------\n",
      " |  Data and other attributes inherited from serpapi.serp_api_client.SerpApiClient:\n",
      " |  \n",
      " |  BACKEND = 'https://serpapi.com'\n",
      " |  \n",
      " |  SERP_API_KEY = None\n",
      "\n"
     ]
    }
   ],
   "source": [
    "help(GoogleSearch)"
   ]
  }
 ],
 "metadata": {
  "interpreter": {
   "hash": "2e6c871947a0b54fb6bdae1e363391934f18e216da7168dab1422b241e2f697f"
  },
  "kernelspec": {
   "display_name": "Python 3.9.12 ('python3.9')",
   "language": "python",
   "name": "python3"
  },
  "language_info": {
   "codemirror_mode": {
    "name": "ipython",
    "version": 3
   },
   "file_extension": ".py",
   "mimetype": "text/x-python",
   "name": "python",
   "nbconvert_exporter": "python",
   "pygments_lexer": "ipython3",
   "version": "3.9.12"
  },
  "orig_nbformat": 4
 },
 "nbformat": 4,
 "nbformat_minor": 2
}
