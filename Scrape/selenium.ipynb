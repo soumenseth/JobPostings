{
 "cells": [
  {
   "cell_type": "code",
   "execution_count": 14,
   "id": "26ea5806-d367-407d-a759-3b7c6f211032",
   "metadata": {},
   "outputs": [],
   "source": [
    "from selenium import webdriver\n",
    "from selenium.webdriver.chrome.options import Options\n",
    "import os\n",
    "import sys\n",
    "from pathlib import Path\n",
    "import time"
   ]
  },
  {
   "cell_type": "code",
   "execution_count": 2,
   "id": "bf2afdc0-41dc-4505-89d1-a7c8095a3183",
   "metadata": {},
   "outputs": [],
   "source": [
    "options = Options()\n",
    "options.headless = True\n",
    "options.add_argument(\"--window-size=1920,1200\")"
   ]
  },
  {
   "cell_type": "code",
   "execution_count": 3,
   "id": "8cefe50c-efff-4294-a7c0-cd88cf6dee51",
   "metadata": {},
   "outputs": [
    {
     "name": "stderr",
     "output_type": "stream",
     "text": [
      "C:\\Users\\SOUMEN\\AppData\\Local\\Temp\\ipykernel_17616\\2564387191.py:2: DeprecationWarning: executable_path has been deprecated, please pass in a Service object\n",
      "  driver = webdriver.Chrome(options=options, executable_path=DRIVER_PATH)\n"
     ]
    }
   ],
   "source": [
    "DRIVER_PATH = 'C:\\\\Users\\\\SOUMEN\\\\Projects\\\\JobPostings\\\\linkedin-job-description-scrap\\\\chromedriver.exe'\n",
    "driver = webdriver.Chrome(options=options, executable_path=DRIVER_PATH)"
   ]
  },
  {
   "cell_type": "code",
   "execution_count": 4,
   "id": "5ad5f0fb-e6df-4cec-8117-5f1e9ad4bd5c",
   "metadata": {},
   "outputs": [],
   "source": [
    "driver.get(\"https://angel.co/location/india\")"
   ]
  },
  {
   "cell_type": "code",
   "execution_count": 5,
   "id": "b4cf5383-e670-49a3-82b2-1d80597a17c9",
   "metadata": {},
   "outputs": [
    {
     "name": "stdout",
     "output_type": "stream",
     "text": [
      "<html><head><title>angel.co</title><script src=\"/cdn-cgi/apps/head/v3Y6PDaKW3Klrhkz3hnr6rJFe4k.js\"></script><style>#cmsg{animation: A 1.5s;}@keyframes A{0%{opacity:0;}99%{opacity:0;}100%{opacity:1;}}</style><meta name=\"viewport\" content=\"width=device-width, initial-scale=1.0\"></head><body style=\"margin:0\"><script type=\"text/javascript\">var dd={'cid':'AHrlqAAAAAMABs1C_wMPvWAAMSUqFQ==','hsh':'BA3EB296E8BE96A496929870E20CD4','t':'fe','s':23647,'e':'a6bf4dc2dcbeca93dccfad347c84bbdbf043b05b14c7f2d7e6558c58cb09e6de','host':'geo.captcha-delivery.com'}</script><script src=\"https://ct.captcha-delivery.com/c.js\" type=\"text/javascript\"></script><script>if(\"string\"==typeof navigator.userAgent&&navigator.userAgent.indexOf(\"Firefox\")>-1){var isIframeLoaded=!1,maxTimeoutMs=5e3;function iframeOnload(e){isIframeLoaded=!0;var a=document.getElementById(\"noiframe\");a&&a.parentNode.removeChild(a)}var initialTime=(new Date).getTime();setTimeout(function(){isIframeLoaded||(new Date).getTime()-initialTime>maxTimeoutMs&&(document.body.innerHTML='<div id=\"noiframe\">Please enable JS and disable any ad blocker</div>'+document.body.innerHTML)},maxTimeoutMs)}else function iframeOnload(){}</script><iframe src=\"https://geo.captcha-delivery.com/captcha/?initialCid=AHrlqAAAAAMABs1C_wMPvWAAMSUqFQ%3D%3D&amp;hash=BA3EB296E8BE96A496929870E20CD4&amp;cid=PjHxf0W3pOHh~S_jOC36WHBW8lqKIPvxtjp5AUbRkQgVAPnt01sg9EuCWbhAi7-Y5y4AWP0gYxETXuIxvrwrxFt6o_RcKl8EnjsN~nS4fN8T08MHFqWPiWK9EVvEdVZ&amp;t=fe&amp;referer=https%3A%2F%2Fangel.co%2Flocation%2Findia&amp;s=23647&amp;e=a6bf4dc2dcbeca93dccfad347c84bbdbf043b05b14c7f2d7e6558c58cb09e6de\" width=\"100%\" height=\"100%\" style=\"height:100vh;\" frameborder=\"0\" border=\"0\" scrolling=\"yes\" onload=\"iframeOnload()\"></iframe>\n",
      "</body></html>\n"
     ]
    }
   ],
   "source": [
    "print(driver.page_source)"
   ]
  },
  {
   "cell_type": "code",
   "execution_count": null,
   "id": "8f07ef9b-b02c-4ebd-8f9f-e653b08d8ede",
   "metadata": {},
   "outputs": [],
   "source": [
    "options = webdriver.ChromeOptions() \n",
    "options.add_argument(\"start-maximized\")\n",
    "options.add_experimental_option(\"excludeSwitches\", [\"enable-automation\"])\n",
    "options.add_experimental_option('useAutomationExtension', False)\n",
    "\n",
    "chrome_prefs = {}\n",
    "options.experimental_options[\"prefs\"] = chrome_prefs\n",
    "chrome_prefs[\"profile.default_content_settings\"] = {\"javascript\": 1}\n",
    "chrome_prefs[\"profile.managed_default_content_settings\"] = {\"javascript\": 1}\n",
    "driver = webdriver.Chrome(options=options, executable_path=DRIVER_PATH)\n",
    "driver.get('https://angel.co/location/india')\n",
    "time.sleep(100)\n",
    "print(driver.page_source)"
   ]
  }
 ],
 "metadata": {
  "kernelspec": {
   "display_name": "Python 3 (ipykernel)",
   "language": "python",
   "name": "python3"
  },
  "language_info": {
   "codemirror_mode": {
    "name": "ipython",
    "version": 3
   },
   "file_extension": ".py",
   "mimetype": "text/x-python",
   "name": "python",
   "nbconvert_exporter": "python",
   "pygments_lexer": "ipython3",
   "version": "3.9.12"
  }
 },
 "nbformat": 4,
 "nbformat_minor": 5
}
