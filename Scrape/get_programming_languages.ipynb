{
 "cells": [
  {
   "cell_type": "code",
   "execution_count": 41,
   "id": "1c49f24d-ee35-43e8-a3f5-62848f39dd8d",
   "metadata": {},
   "outputs": [],
   "source": [
    "import requests\n",
    "from bs4 import BeautifulSoup\n",
    "import json"
   ]
  },
  {
   "cell_type": "code",
   "execution_count": 2,
   "id": "7e8f3b6a-3a01-4ab3-a8ab-69cee4a1d645",
   "metadata": {},
   "outputs": [],
   "source": [
    "URL = \"https://en.wikipedia.org/wiki/List_of_programming_languages\""
   ]
  },
  {
   "cell_type": "code",
   "execution_count": 3,
   "id": "d2eee832-0374-4354-8e5b-ab546f1bfdd2",
   "metadata": {},
   "outputs": [],
   "source": [
    "headers = {'User-Agent': \"Mozilla/5.0 (Windows NT 10.0; Win64; x64) AppleWebKit/537.36 (KHTML, like Gecko) Chrome/42.0.2311.135 Safari/537.36 Edge/12.246\"}\n",
    "# Here the user agent is for Edge browser on windows 10. You can find your browser user agent from the above given link.\n",
    "r = requests.get(url=URL, headers=headers)"
   ]
  },
  {
   "cell_type": "code",
   "execution_count": 12,
   "id": "169fa1d7-3454-42db-9dfa-2d510dc187b9",
   "metadata": {},
   "outputs": [],
   "source": [
    "soup = BeautifulSoup(r.content, 'html5lib') # If this line causes an error, run 'pip install html5lib' or install html5lib"
   ]
  },
  {
   "cell_type": "code",
   "execution_count": 13,
   "id": "7ddb8384-7b12-451e-b85d-7e322a4e6306",
   "metadata": {
    "tags": []
   },
   "outputs": [],
   "source": [
    "tables = soup.findAll('div', attrs = {'class':'div-col'}) "
   ]
  },
  {
   "cell_type": "code",
   "execution_count": 37,
   "id": "fa5d7688-a044-4e56-8dd7-cd2df4ce5eb8",
   "metadata": {},
   "outputs": [],
   "source": [
    "languages = []\n",
    "for table in tables:\n",
    "    lang_elements = table.find_all('li')\n",
    "    table_langs = [le.text for le in lang_elements]\n",
    "    languages = languages+table_langs"
   ]
  },
  {
   "cell_type": "code",
   "execution_count": 40,
   "id": "72ead4b0-133b-4f34-89a1-355015e8dfb8",
   "metadata": {
    "tags": []
   },
   "outputs": [],
   "source": [
    "import os\n",
    "os.chdir('C:\\\\Users\\\\SOUMEN\\\\Projects\\\\JobPostings')"
   ]
  },
  {
   "cell_type": "code",
   "execution_count": 42,
   "id": "c8a34baa-c7ea-48cd-89ad-91d3f241ad1e",
   "metadata": {},
   "outputs": [],
   "source": [
    "with open('Data/programming_languages.json', 'w') as f:\n",
    "    json.dump(languages, f)"
   ]
  }
 ],
 "metadata": {
  "kernelspec": {
   "display_name": "python3.9",
   "language": "python",
   "name": "python3.9"
  },
  "language_info": {
   "codemirror_mode": {
    "name": "ipython",
    "version": 3
   },
   "file_extension": ".py",
   "mimetype": "text/x-python",
   "name": "python",
   "nbconvert_exporter": "python",
   "pygments_lexer": "ipython3",
   "version": "3.9.12"
  }
 },
 "nbformat": 4,
 "nbformat_minor": 5
}
