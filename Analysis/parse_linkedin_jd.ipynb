{
 "cells": [
  {
   "cell_type": "code",
   "execution_count": 43,
   "id": "225b3af8-d289-4901-8aad-dcfeb8e731c0",
   "metadata": {},
   "outputs": [],
   "source": [
    "import json\n",
    "import re\n",
    "import os\n",
    "import pandas as pd\n",
    "from collections import Counter\n",
    "import sys\n",
    "sys.path.append(os.path.dirname(os.getcwd()))\n",
    "from Utils import *"
   ]
  },
  {
   "cell_type": "code",
   "execution_count": 32,
   "id": "c4bf3fd4-69a6-4ffb-98b2-736c652f2469",
   "metadata": {},
   "outputs": [],
   "source": [
    "linkedid_data_path = os.path.join(os.path.dirname(os.getcwd()), 'Data/linked_in.json')\n",
    "linkedid_parsed_data_path = os.path.join(os.path.dirname(os.getcwd()), 'Data/linked_in_parsed.json')"
   ]
  },
  {
   "cell_type": "code",
   "execution_count": 33,
   "id": "a58e93b4-3ef1-420c-908e-e9ee194adc28",
   "metadata": {},
   "outputs": [],
   "source": [
    "jobs_list = read_json(linkedid_data_path)"
   ]
  },
  {
   "cell_type": "code",
   "execution_count": 34,
   "id": "7ea1b29f-5a31-42db-b7ac-fbf86dcee3eb",
   "metadata": {},
   "outputs": [],
   "source": [
    "def get_text_paragraphs(text):\n",
    "    paragraphs = re.split(r'\\n+', text, maxsplit=0, flags=0)\n",
    "    paragraphs = [p.strip() for p in paragraphs if p.strip() != '']\n",
    "    return paragraphs"
   ]
  },
  {
   "cell_type": "code",
   "execution_count": 59,
   "id": "f36835a3-8a81-4ae4-b1f0-4cc2c2def971",
   "metadata": {},
   "outputs": [],
   "source": [
    "jobs_parsed = []\n",
    "for job in jobs_list:\n",
    "    job_sections = get_text_paragraphs(job)\n",
    "    job_position = job_sections[0]\n",
    "    company = job_sections[1]\n",
    "    location = job_sections[2]\n",
    "    \n",
    "    job_dict = {\n",
    "        \"job_position\": job_position,\n",
    "        \"company\": company,\n",
    "        \"location\": location,\n",
    "        \"job_sections\": job_sections\n",
    "    }\n",
    "    jobs_parsed.append(job_dict)"
   ]
  },
  {
   "cell_type": "code",
   "execution_count": 60,
   "id": "3378dda0-f51d-425e-b570-3e986f73a027",
   "metadata": {},
   "outputs": [],
   "source": [
    "write_json(jobs_parsed, linkedid_parsed_data_path)"
   ]
  },
  {
   "cell_type": "markdown",
   "id": "f1aa1219-3835-4bd1-a04b-a7f675bac2b4",
   "metadata": {},
   "source": []
  },
  {
   "cell_type": "code",
   "execution_count": null,
   "id": "48b495aa-d724-482b-8f4c-0b705972691d",
   "metadata": {},
   "outputs": [],
   "source": []
  }
 ],
 "metadata": {
  "kernelspec": {
   "display_name": "Python 3 (ipykernel)",
   "language": "python",
   "name": "python3"
  },
  "language_info": {
   "codemirror_mode": {
    "name": "ipython",
    "version": 3
   },
   "file_extension": ".py",
   "mimetype": "text/x-python",
   "name": "python",
   "nbconvert_exporter": "python",
   "pygments_lexer": "ipython3",
   "version": "3.9.12"
  }
 },
 "nbformat": 4,
 "nbformat_minor": 5
}
